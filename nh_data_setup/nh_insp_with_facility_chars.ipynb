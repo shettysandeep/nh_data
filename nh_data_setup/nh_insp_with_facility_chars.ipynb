{
 "cells": [
  {
   "cell_type": "markdown",
   "id": "4380279e-c3b7-4e81-a79a-3bc8cd039945",
   "metadata": {},
   "source": [
    "# Nursing Home Data Cleaning & Merging. \n",
    "Using NH 2567 deficiency tags data, merging with Facility-level Characteristics to study `(TBD)`  \n",
    "**Date: May 24, 2024**  \n",
    "**Author: Sandeep**  \n"
   ]
  },
  {
   "cell_type": "code",
   "execution_count": 43,
   "id": "84e08c5d-98fa-40b0-9c2c-d49e286bacc5",
   "metadata": {},
   "outputs": [],
   "source": [
    "%load_ext jupyter_black"
   ]
  },
  {
   "cell_type": "code",
   "execution_count": 1,
   "id": "68c35b18-930f-4e81-b9fd-2949b105abe3",
   "metadata": {},
   "outputs": [],
   "source": [
    "import os\n",
    "import re\n",
    "import pandas as pd\n",
    "import seaborn as sns\n",
    "import matplotlib.pyplot as plt\n",
    "from pyspark.sql import SparkSession\n",
    "from pyspark.sql.window import Window\n",
    "from pyspark.sql.functions import when, col, udf, pandas_udf, PandasUDFType\n",
    "import pyspark.sql.functions as F\n",
    "from collections import Counter\n",
    "from pyspark.sql.types import *"
   ]
  },
  {
   "cell_type": "code",
   "execution_count": null,
   "id": "9fda89d7-c4c3-4bc1-82a6-1e494d7d2628",
   "metadata": {},
   "outputs": [],
   "source": [
    "pd.set_option(\"display.max.rows\", 500)"
   ]
  },
  {
   "cell_type": "code",
   "execution_count": 185,
   "id": "0d3f9714-1f6c-4471-9228-f8eda0ce2afc",
   "metadata": {},
   "outputs": [
    {
     "name": "stderr",
     "output_type": "stream",
     "text": [
      "Setting default log level to \"WARN\".\n",
      "To adjust logging level use sc.setLogLevel(newLevel). For SparkR, use setLogLevel(newLevel).\n",
      "24/05/31 09:50:19 WARN NativeCodeLoader: Unable to load native-hadoop library for your platform... using builtin-java classes where applicable\n"
     ]
    },
    {
     "data": {
      "text/plain": [
       "DataFrame[key: string, value: string]"
      ]
     },
     "execution_count": 185,
     "metadata": {},
     "output_type": "execute_result"
    }
   ],
   "source": [
    "spark = SparkSession.builder.appName(\"NH_Data\").getOrCreate()\n",
    "spark.sql(\"set spark.sql.legacy.timeParserPolicy=CORRECTED\")"
   ]
  },
  {
   "cell_type": "code",
   "execution_count": 186,
   "id": "b2253957-5e76-4b2f-aa3b-5a8b9744d011",
   "metadata": {},
   "outputs": [
    {
     "name": "stderr",
     "output_type": "stream",
     "text": [
      "                                                                                \r"
     ]
    }
   ],
   "source": [
    "# GET DATA\n",
    "df_duped = spark.read.parquet(\"nh_set.parquet\")"
   ]
  },
  {
   "cell_type": "code",
   "execution_count": 187,
   "id": "6719b23f-268a-4652-9e5c-5b6d6679e077",
   "metadata": {},
   "outputs": [
    {
     "data": {
      "text/plain": [
       "['facility_name',\n",
       " 'facility_id',\n",
       " 'address',\n",
       " 'city',\n",
       " 'state',\n",
       " 'zip',\n",
       " 'inspection_date',\n",
       " 'deficiency_tag',\n",
       " 'scope_severity',\n",
       " 'eventid',\n",
       " 'infctrl',\n",
       " 'inspect_date',\n",
       " 'insp_year']"
      ]
     },
     "execution_count": 187,
     "metadata": {},
     "output_type": "execute_result"
    }
   ],
   "source": [
    "df_duped.columns"
   ]
  },
  {
   "cell_type": "code",
   "execution_count": 188,
   "id": "ffc0b4c5-c2d3-42ee-a164-9275b7eee119",
   "metadata": {},
   "outputs": [],
   "source": [
    "# Drop infctrl -\n",
    "# df_duped.select(\"infctrl\").groupBy([\"infctrl\"]).count().show()\n",
    "df_duped = df_duped.drop(\"infctrl\", \"facility_name\", \"address\", \"city\")"
   ]
  },
  {
   "cell_type": "markdown",
   "id": "bbc87bd4-f674-4263-9c96-22688360a92d",
   "metadata": {},
   "source": [
    "## NH Citations data - 2018-2022\n",
    "### Data reduction in the deficiency tag dataset (to merge with facility characteristics.) \n",
    "Aggregate counts to `{state-facility-year}` observation unit --> aggregate as `number of inspections`, `number of tags per inspection`, `most frequent tag`, `severe tags score`, etc.\n",
    "\n",
    "**Build all the different variables, first, then join `em all**"
   ]
  },
  {
   "cell_type": "markdown",
   "id": "29ff9208-9007-4052-b99c-7cab6f602bea",
   "metadata": {},
   "source": [
    "#### count of NH homes inpsected (state, year)\n",
    "\n",
    "actual NH in the state, year may be more since all NHs are not inspected within a calendar year"
   ]
  },
  {
   "cell_type": "code",
   "execution_count": 195,
   "id": "ab9a6119-8051-4e11-baf4-01dd0970d875",
   "metadata": {},
   "outputs": [
    {
     "name": "stderr",
     "output_type": "stream",
     "text": [
      "                                                                                \r"
     ]
    },
    {
     "name": "stdout",
     "output_type": "stream",
     "text": [
      "+-----+---------+-------------------+\n",
      "|state|insp_year|count_nh_insp_st_yr|\n",
      "+-----+---------+-------------------+\n",
      "|   TN|     2020|                146|\n",
      "|   MT|     2021|                 58|\n",
      "+-----+---------+-------------------+\n",
      "only showing top 2 rows\n",
      "\n"
     ]
    }
   ],
   "source": [
    "count_nh_insp_st_yr = (\n",
    "    df_duped.dropDuplicates([\"state\", \"insp_year\", \"facility_id\"])\n",
    "    .groupBy(\"state\", \"insp_year\")\n",
    "    .agg(F.count(F.lit(1)).alias(\"count_nh_insp_st_yr\"))\n",
    ")\n",
    "count_nh_insp_st_yr.show(2)"
   ]
  },
  {
   "cell_type": "markdown",
   "id": "64cf3956-fa5f-4e84-9d9d-355feee5dc34",
   "metadata": {},
   "source": [
    "#### count of NH inpsections (state-year-facility level) \n",
    " (more than one inpsection observed for some facilities)\n",
    "`eventid` is unique for each inspection episode (date)\n"
   ]
  },
  {
   "cell_type": "code",
   "execution_count": 196,
   "id": "58bc4bb5-4257-497c-9d8b-37c98bd2b76d",
   "metadata": {},
   "outputs": [
    {
     "name": "stderr",
     "output_type": "stream",
     "text": [
      "[Stage 9:>                                                          (0 + 1) / 1]\r"
     ]
    },
    {
     "name": "stdout",
     "output_type": "stream",
     "text": [
      "+-----+---------+-----------+-------------------+\n",
      "|state|insp_year|facility_id|fac_times_inpsected|\n",
      "+-----+---------+-----------+-------------------+\n",
      "|   CA|     2019|     056359|                  2|\n",
      "|   IN|     2022|     155566|                  4|\n",
      "+-----+---------+-----------+-------------------+\n",
      "only showing top 2 rows\n",
      "\n"
     ]
    },
    {
     "name": "stderr",
     "output_type": "stream",
     "text": [
      "                                                                                \r"
     ]
    }
   ],
   "source": [
    "fac_times_inspected = (\n",
    "    df_duped.dropDuplicates([\"state\", \"insp_year\", \"facility_id\", \"eventid\"])\n",
    "    .groupBy(\"state\", \"insp_year\", \"facility_id\")\n",
    "    .agg(F.count(F.lit(1)).alias(\"fac_times_inpsected\"))\n",
    ")\n",
    "fac_times_inspected.show(2)"
   ]
  },
  {
   "cell_type": "markdown",
   "id": "087ec7e1-ff6d-4b8d-a9b7-bbf10f34e47e",
   "metadata": {},
   "source": [
    "#### average labels per year  (by facility, state, year)\n",
    "(there are may more than 1 inspection episode in a calendar year for a given facility, in which case the labels are aggregated across the episodes)"
   ]
  },
  {
   "cell_type": "code",
   "execution_count": 197,
   "id": "6cde5a1d-9540-4b0b-8d8e-0a3344e6831c",
   "metadata": {},
   "outputs": [],
   "source": [
    "def_tags_pa = (\n",
    "    df_duped.dropDuplicates([\"state\", \"insp_year\", \"facility_id\", \"deficiency_tag\"])\n",
    "    .groupBy(\"state\", \"insp_year\", \"facility_id\")\n",
    "    .agg(F.count(F.lit(1)).alias(\"no_of_tags_peryear\"))\n",
    ")\n",
    "\n",
    "# def_tags_pa.show(2)"
   ]
  },
  {
   "cell_type": "markdown",
   "id": "2d3a0a62-4e6c-4028-8b60-41935942c296",
   "metadata": {},
   "source": [
    "#### Deficiency tags based measures\n",
    "Each Deficiency tag citation goes with a scope severity measure that captures how widespread is that particular problem (CMS defined quality dimension)\n",
    "\n",
    "**Scope Severity - A thru K**\n",
    "Labels: (J, K, H, I, F, L) describe the danger imminent to a patient or more patients    \n",
    "source: https://www.cms.gov/Medicare/Provider-Enrollment-and-Certification/CertificationandComplianc/Downloads/SFFSCORINGMETHODOLOGY.pdf\n",
    "\n",
    "Note that the scope severity is associated with type of deficiency tag the NH has received. "
   ]
  },
  {
   "cell_type": "code",
   "execution_count": 198,
   "id": "09906ded-0ab1-4192-8aa7-cca10b8be411",
   "metadata": {},
   "outputs": [],
   "source": [
    "# list of severe tags see link above\n",
    "severe = [\"J\", \"K\", \"H\", \"I\", \"F\", \"L\"]"
   ]
  },
  {
   "cell_type": "markdown",
   "id": "9b88799f-af05-419f-a7f9-aae396949c1b",
   "metadata": {},
   "source": [
    "**Deficiency tags**"
   ]
  },
  {
   "cell_type": "code",
   "execution_count": 199,
   "id": "b6f71c0b-4d25-41ef-a8cd-faa7e900037c",
   "metadata": {},
   "outputs": [
    {
     "name": "stderr",
     "output_type": "stream",
     "text": [
      "[Stage 15:=======================>                                  (2 + 3) / 5]\r"
     ]
    },
    {
     "name": "stdout",
     "output_type": "stream",
     "text": [
      "+-----+---------+-----------+--------------------+\n",
      "|state|insp_year|facility_id|           list_tags|\n",
      "+-----+---------+-----------+--------------------+\n",
      "|   AK|     2018|     025020|[921, 557, 697, 6...|\n",
      "|   AK|     2018|     025031|[607, 657, 812, 7...|\n",
      "|   AK|     2019|     025010|[585, 684, 909, 6...|\n",
      "|   AK|     2019|     025025|[700, 684, 578, 6...|\n",
      "|   AK|     2021|     025021|[695, 803, 656, 5...|\n",
      "|   AK|     2022|     025015|[812, 552, 610, 7...|\n",
      "|   AK|     2022|     025027|[790, 880, 641, 5...|\n",
      "|   AK|     2022|     025037|[657, 812, 689, 880]|\n",
      "|   AL|     2018|     015035|               [657]|\n",
      "|   AL|     2018|     015042|[814, 880, 565, 812]|\n",
      "+-----+---------+-----------+--------------------+\n",
      "only showing top 10 rows\n",
      "\n"
     ]
    },
    {
     "name": "stderr",
     "output_type": "stream",
     "text": [
      "                                                                                \r"
     ]
    }
   ],
   "source": [
    "df_duped.dropDuplicates(\n",
    "    [\"state\", \"insp_year\", \"facility_id\", \"deficiency_tag\"]\n",
    ").groupBy(\"state\", \"insp_year\", \"facility_id\").agg(\n",
    "    F.collect_list(\"deficiency_tag\").alias(\"list_tags\")\n",
    ").dropDuplicates().show(\n",
    "    10\n",
    ")"
   ]
  },
  {
   "cell_type": "markdown",
   "id": "875405b4-d4c3-4623-8da7-7b3d3ea129d7",
   "metadata": {},
   "source": [
    "**Pick up tags that is cited to have a scope severity measure that is risky**  \n",
    "create a list of tags that a have high risk on scope (see cell above on scope severity and  the list `severe`)"
   ]
  },
  {
   "cell_type": "code",
   "execution_count": 200,
   "id": "933cc0b1-2bda-493c-9cf0-79acefd93ca7",
   "metadata": {},
   "outputs": [],
   "source": [
    "# number of severe tags found during the investigation\n",
    "def func_hr_tag(x, y):\n",
    "    if len(x) > 0:\n",
    "        dictXY = dict(zip(x, y))\n",
    "        newlist = [\n",
    "            \"{}-{}\".format(im, key) for im, key in dictXY.items() if key in severe\n",
    "        ]\n",
    "        return newlist\n",
    "\n",
    "\n",
    "func_udf = udf(func_hr_tag, StringType())"
   ]
  },
  {
   "cell_type": "code",
   "execution_count": 201,
   "id": "a69326f2-688d-4269-9db2-88bf83c02267",
   "metadata": {},
   "outputs": [],
   "source": [
    "df_with_svr_tags = (\n",
    "    df_duped.dropDuplicates(\n",
    "        [\"state\", \"insp_year\", \"facility_id\", \"deficiency_tag\", \"scope_severity\"]\n",
    "    )\n",
    "    .groupBy(\"state\", \"insp_year\", \"facility_id\")\n",
    "    .agg(\n",
    "        F.collect_list(\"deficiency_tag\").alias(\"defTag\"),\n",
    "        F.collect_list(\"scope_severity\").alias(\"scTag\"),\n",
    "    )\n",
    "    .dropDuplicates()\n",
    "    .withColumn(\"new_val\", func_udf(\"defTag\", \"scTag\"))\n",
    ")"
   ]
  },
  {
   "cell_type": "code",
   "execution_count": 155,
   "id": "4454f4d5-8f31-4a8d-b36f-e6f448d5cdf3",
   "metadata": {},
   "outputs": [
    {
     "name": "stderr",
     "output_type": "stream",
     "text": [
      "[Stage 288:========================================>                (5 + 2) / 7]\r"
     ]
    },
    {
     "name": "stdout",
     "output_type": "stream",
     "text": [
      "+-----+---------+-----------+--------------------+--------------------+--------------------+\n",
      "|state|insp_year|facility_id|              defTag|               scTag|             new_val|\n",
      "+-----+---------+-----------+--------------------+--------------------+--------------------+\n",
      "|   AK|     2018|     025020|[697, 921, 656, 6...|[E, E, D, E, D, E...|                  []|\n",
      "|   AK|     2018|     025031|[607, 686, 657, 5...|[F, G, D, F, C, D...|[607-F, 563-F, 81...|\n",
      "|   AK|     2019|     025010|[837, 585, 839, 6...|[F, F, F, E, D, D...|[837-F, 585-F, 83...|\n",
      "|   AK|     2021|     025021|[689, 609, 656, 8...|[E, E, E, F, D, E...|      [804-F, 803-F]|\n",
      "|   AK|     2022|     025015|[812, 700, 641, 7...|[F, E, D, D, D, D...|             [812-F]|\n",
      "|   AK|     2022|     025027|[812, 790, 883, 6...|[E, D, E, D, E, D...|                  []|\n",
      "|   AK|     2022|     025037|[689, 812, 657, 880]|        [D, F, D, F]|      [812-F, 880-F]|\n",
      "|   AL|     2018|     015035|               [657]|                 [D]|                  []|\n",
      "|   AL|     2018|     015042|[880, 814, 565, 812]|        [D, F, D, F]|      [814-F, 812-F]|\n",
      "|   AL|     2018|     015045|     [656, 812, 758]|           [D, F, D]|             [812-F]|\n",
      "+-----+---------+-----------+--------------------+--------------------+--------------------+\n",
      "only showing top 10 rows\n",
      "\n"
     ]
    },
    {
     "name": "stderr",
     "output_type": "stream",
     "text": [
      "                                                                                \r"
     ]
    }
   ],
   "source": [
    "df_with_svr_tags.show(10)"
   ]
  },
  {
   "cell_type": "markdown",
   "id": "407b7e87-ea7c-4e2f-a15e-41ea2f5e3885",
   "metadata": {},
   "source": [
    "**number of severe tags found during the investigation**"
   ]
  },
  {
   "cell_type": "code",
   "execution_count": 202,
   "id": "da7b3d03-661a-403e-8b5d-67a6dc88ac5e",
   "metadata": {},
   "outputs": [],
   "source": [
    "# number of severe tags found during the investigation\n",
    "my_udf = udf(\n",
    "    lambda pair: len([key for im, key in enumerate(pair) if key in severe]),\n",
    "    IntegerType(),\n",
    ")"
   ]
  },
  {
   "cell_type": "code",
   "execution_count": 203,
   "id": "2e6a1f74-4f84-40d2-a53c-231eb44c0bcf",
   "metadata": {},
   "outputs": [],
   "source": [
    "sever_tags_prsnt = (\n",
    "    df_duped.dropDuplicates([\"state\", \"insp_year\", \"facility_id\", \"scope_severity\"])\n",
    "    .groupBy(\"state\", \"insp_year\", \"facility_id\")\n",
    "    .agg(F.collect_list(\"scope_severity\").alias(\"scope_list\"))\n",
    "    .withColumn(\"severe_tags_applied\", my_udf(F.col(\"scope_list\")))\n",
    ")"
   ]
  },
  {
   "cell_type": "code",
   "execution_count": 17,
   "id": "501466e3-3f68-4ecf-a6aa-4ac8ae97da5b",
   "metadata": {},
   "outputs": [
    {
     "name": "stderr",
     "output_type": "stream",
     "text": [
      "[Stage 30:>                                                         (0 + 1) / 1]\r"
     ]
    },
    {
     "name": "stdout",
     "output_type": "stream",
     "text": [
      "+-----+---------+-----------+------------+-------------------+\n",
      "|state|insp_year|facility_id|  scope_list|severe_tags_applied|\n",
      "+-----+---------+-----------+------------+-------------------+\n",
      "|   AK|     2018|     025010|   [E, F, D]|                  1|\n",
      "|   AK|     2018|     025015|[D, C, E, F]|                  1|\n",
      "|   AK|     2018|     025018|   [D, F, E]|                  1|\n",
      "+-----+---------+-----------+------------+-------------------+\n",
      "only showing top 3 rows\n",
      "\n"
     ]
    },
    {
     "name": "stderr",
     "output_type": "stream",
     "text": [
      "                                                                                \r"
     ]
    }
   ],
   "source": [
    "sever_tags_prsnt.show(3)"
   ]
  },
  {
   "cell_type": "markdown",
   "id": "5450d19c-3cb2-4a97-aed6-a9123fab0a91",
   "metadata": {},
   "source": [
    "### Merging the different datasets to obtain an aggregated dataset"
   ]
  },
  {
   "cell_type": "code",
   "execution_count": 204,
   "id": "d42b7e58-49f9-42d1-8585-b21f525e7faa",
   "metadata": {},
   "outputs": [
    {
     "data": {
      "text/plain": [
       "['count_nh_insp_st_yr',\n",
       " 'dat',\n",
       " 'def_tags_pa',\n",
       " 'df_duped',\n",
       " 'df_with_svr_tags',\n",
       " 'fac_times_inspected',\n",
       " 'nh2018',\n",
       " 'nh2019',\n",
       " 'nh2020',\n",
       " 'nh2021',\n",
       " 'nh2022',\n",
       " 'nh2023',\n",
       " 'prvdr',\n",
       " 'prvdr_sp',\n",
       " 'sever_tags_prsnt']"
      ]
     },
     "execution_count": 204,
     "metadata": {},
     "output_type": "execute_result"
    }
   ],
   "source": [
    "%who_ls DataFrame"
   ]
  },
  {
   "cell_type": "code",
   "execution_count": 205,
   "id": "5d4b7385-42d3-41d3-bcf6-368b1e4eb44d",
   "metadata": {},
   "outputs": [],
   "source": [
    "list_df = [\n",
    "    \"count_nh_insp_st_yr\",\n",
    "    \"def_tags_pa\",\n",
    "    \"df_with_svr_tags\",\n",
    "    \"fac_times_inspected\",\n",
    "    \"sever_tags_prsnt\",\n",
    "]"
   ]
  },
  {
   "cell_type": "code",
   "execution_count": 206,
   "id": "b98893a4-f9af-4fe6-a06a-9cd2074740f8",
   "metadata": {},
   "outputs": [],
   "source": [
    "mm1 = def_tags_pa.join(\n",
    "    sever_tags_prsnt, on=[\"state\", \"insp_year\", \"facility_id\"]\n",
    ").dropDuplicates()"
   ]
  },
  {
   "cell_type": "code",
   "execution_count": 207,
   "id": "b84a5c8c-30fe-4d46-8acc-4415b856784e",
   "metadata": {},
   "outputs": [],
   "source": [
    "mm2 = mm1.join(\n",
    "    fac_times_inspected, on=[\"state\", \"insp_year\", \"facility_id\"]\n",
    ").dropDuplicates()"
   ]
  },
  {
   "cell_type": "code",
   "execution_count": 208,
   "id": "92e95e69-ede4-4e56-a60e-33bc18ad2b5f",
   "metadata": {},
   "outputs": [],
   "source": [
    "mm3 = mm2.join(\n",
    "    df_with_svr_tags, on=[\"state\", \"insp_year\", \"facility_id\"]\n",
    ").dropDuplicates()"
   ]
  },
  {
   "cell_type": "code",
   "execution_count": 209,
   "id": "7e11ffd3-1e62-4e8b-8a7a-957c3a0ebf7f",
   "metadata": {},
   "outputs": [
    {
     "name": "stderr",
     "output_type": "stream",
     "text": [
      "                                                                                \r"
     ]
    },
    {
     "data": {
      "text/plain": [
       "60668"
      ]
     },
     "execution_count": 209,
     "metadata": {},
     "output_type": "execute_result"
    }
   ],
   "source": [
    "mm3.count()"
   ]
  },
  {
   "cell_type": "code",
   "execution_count": 210,
   "id": "d86abafc-3d5c-42fb-9171-9bf2a1118e3c",
   "metadata": {},
   "outputs": [
    {
     "data": {
      "text/plain": [
       "60668"
      ]
     },
     "execution_count": 210,
     "metadata": {},
     "output_type": "execute_result"
    }
   ],
   "source": [
    "mm3 = mm3.join(\n",
    "    count_nh_insp_st_yr, on=[\"state\", \"insp_year\"], how=\"left\"\n",
    ").dropDuplicates()\n",
    "mm3.count()"
   ]
  },
  {
   "cell_type": "markdown",
   "id": "aec74413-374e-4a43-bdb8-5d0c1b6b843f",
   "metadata": {},
   "source": [
    "## NH Facility Characteristics - 2018-2022\n",
    "\n",
    "The .csv files part of the facility level charactersitics download collects all the information in the excel spreadsheet below going back to the last three inspection episodes for each of the NH.  Collect all the spreadsheets over time and merge some of the characteristics to the deficiency tag data.\n",
    "\n",
    "source: https://data.cms.gov/provider-data/archived-data/nursing-homes\n",
    "\n",
    "The files/filenames for the `.csv` here contain the text \"provider info\" in them. There are changes in variable naming format from 2020 onwards. "
   ]
  },
  {
   "cell_type": "code",
   "execution_count": 2,
   "id": "53385f10-487a-46e9-b835-d746abd0f75e",
   "metadata": {},
   "outputs": [],
   "source": [
    "# 2018 & 2019 - harmonizing to 2020 and later years\n",
    "columns_to_rename = {\n",
    "    \"PROVNUM\": \"Federal Provider Number\",\n",
    "    \"OWNERSHIP\": \"Ownership Type\",\n",
    "    \"BEDCERT\": \"Number of Certified Beds\",\n",
    "    \"RESTOT\": \"Average Number of Residents per Day\",\n",
    "    \"CERTIFICATION\": \"Provider Type\",\n",
    "    \"INHOSP\": \"Provider Resides in Hospital\",\n",
    "    \"CHOW_LAST_12MOS\": \"Provider Changed Ownership in Last 12 Months\",\n",
    "    \"RESFAMCOUNCIL\": \"With a Resident and Family Council\",\n",
    "    \"AIDHRD\": \"Reported Nurse Aide Staffing Hours per Resident per Day\",\n",
    "    \"VOCHRD\": \"Reported LPN Staffing Hours per Resident per Day\",\n",
    "    \"RNHRD\": \"Reported RN Staffing Hours per Resident per Day\",\n",
    "    \"SURVEY_RATING\": \"Overall Rating\",\n",
    "    \"TOTLICHRD\": \"Reported Licensed Staffing Hours per Resident per Day\",\n",
    "    \"TOTHRD\": \"Reported Total Nurse Staffing Hours per Resident per Day\",\n",
    "    \"CM_AIDE\": \"Case-Mix Nurse Aide Staffing Hours per Resident per Day\",\n",
    "    \"ADJ_TOTAL\": \"Adjusted Total Nurse Staffing Hours per Resident per Day\",\n",
    "    \"CM_LPN\": \"Case-Mix LPN Staffing Hours per Resident per Day\",\n",
    "    \"CM_RN\": \"Case-Mix RN Staffing Hours per Resident per Day\",\n",
    "    \"CM_TOTAL\": \"Case-Mix Total Nurse Staffing Hours per Resident per Day\",\n",
    "    \"ADJ_AIDE\": \"Adjusted Nurse Aide Staffing Hours per Resident per Day\",\n",
    "    \"ADJ_LPN\": \"Adjusted LPN Staffing Hours per Resident per Day\",\n",
    "    \"ADJ_RN\": \"Adjusted RN Staffing Hours per Resident per Day\",\n",
    "    \"WEIGHTED_ALL_CYCLES_SCORE\": \"Total Weighted Health Survey Score\",\n",
    "    \"INCIDENT_CNT\": \"Number of Facility Reported Incidents\",\n",
    "    \"CMPLNT_CNT\": \"Number of Substantiated Complaints\",\n",
    "    \"FINE_CNT\": \"Number of Fines\",\n",
    "    \"FINE_TOT\": \"Total Amount of Fines in Dollars\",\n",
    "    \"PAYDEN_CNT\": \"Number of Payment Denials\",\n",
    "    \"TOT_PENLTY_CNT\": \"Total Number of Penalties\",\n",
    "    \"FILEDATE\": \"Processing Date\",\n",
    "}"
   ]
  },
  {
   "cell_type": "code",
   "execution_count": 3,
   "id": "de2dda16-d2ea-4054-b358-a9ebc096e128",
   "metadata": {},
   "outputs": [],
   "source": [
    "columns_to_keep = [\n",
    "    \"Federal Provider Number\",\n",
    "    \"Ownership Type\",\n",
    "    \"Number of Certified Beds\",\n",
    "    \"Average Number of Residents per Day\",\n",
    "    \"Provider Type\",\n",
    "    \"Provider Resides in Hospital\",\n",
    "    # \"Date First Approved to Provide Medicare and Medicaid Services\",\n",
    "    # \"Continuing Care Retirement Community\",\n",
    "    # \"Special Focus Status\",\n",
    "    \"Provider Changed Ownership in Last 12 Months\",\n",
    "    \"With a Resident and Family Council\",\n",
    "    \"Overall Rating\",\n",
    "    # \"Health Inspection Rating\",\n",
    "    \"Reported Nurse Aide Staffing Hours per Resident per Day\",\n",
    "    \"Reported LPN Staffing Hours per Resident per Day\",\n",
    "    \"Reported RN Staffing Hours per Resident per Day\",\n",
    "    \"Reported Licensed Staffing Hours per Resident per Day\",\n",
    "    \"Reported Total Nurse Staffing Hours per Resident per Day\",\n",
    "    \"Case-Mix Nurse Aide Staffing Hours per Resident per Day\",\n",
    "    \"Case-Mix LPN Staffing Hours per Resident per Day\",\n",
    "    \"Case-Mix RN Staffing Hours per Resident per Day\",\n",
    "    \"Case-Mix Total Nurse Staffing Hours per Resident per Day\",\n",
    "    \"Adjusted Nurse Aide Staffing Hours per Resident per Day\",\n",
    "    \"Adjusted LPN Staffing Hours per Resident per Day\",\n",
    "    \"Adjusted RN Staffing Hours per Resident per Day\",\n",
    "    \"Adjusted Total Nurse Staffing Hours per Resident per Day\",\n",
    "    \"Total Weighted Health Survey Score\",\n",
    "    \"Number of Facility Reported Incidents\",\n",
    "    \"Number of Substantiated Complaints\",\n",
    "    # \"Number of Citations from Infection Control Inspections\",\n",
    "    \"Number of Fines\",\n",
    "    \"Total Amount of Fines in Dollars\",\n",
    "    \"Number of Payment Denials\",\n",
    "    \"Total Number of Penalties\",\n",
    "    \"Processing Date\",\n",
    "]"
   ]
  },
  {
   "cell_type": "markdown",
   "id": "7403ec88-3a06-4a0e-a966-7e5ce4f2efaa",
   "metadata": {},
   "source": [
    "#### List of Provider Info files from CMS - 2019-2023"
   ]
  },
  {
   "cell_type": "code",
   "execution_count": 4,
   "id": "caa61481-96da-4605-be3a-ddf5ae560ad1",
   "metadata": {},
   "outputs": [],
   "source": [
    "\n",
    "list_of_files = [\n",
    "    \"NH_ProviderInfo_Nov2021.csv\",\n",
    "    \"NH_ProviderInfo_Nov2020.csv\",\n",
    "    \"NH_ProviderInfo_Nov2022.csv\",\n",
    "    \"NH_ProviderInfo_Nov2023.csv\",\n",
    "    # 'ProviderInfo_Nov2018.csv',\n",
    "    \"ProviderInfo_Nov2019.csv\",\n",
    "]"
   ]
  },
  {
   "cell_type": "code",
   "execution_count": 5,
   "id": "0ca8370e-2580-4dd3-8ae6-2bf1fa27b4b6",
   "metadata": {},
   "outputs": [],
   "source": [
    "FILE_DIR = \"./provider_info/\""
   ]
  },
  {
   "cell_type": "markdown",
   "id": "c36d1f93-7ef7-4c84-bd88-0be46f4891d6",
   "metadata": {},
   "source": [
    "#### Combine the files for one dataframe"
   ]
  },
  {
   "cell_type": "code",
   "execution_count": 6,
   "id": "6876fb54-6dca-4b9b-bc12-117e406282d1",
   "metadata": {},
   "outputs": [],
   "source": [
    "prvdr = pd.DataFrame()\n",
    "for file_name in list_of_files:\n",
    "    cond = int(re.search(\"([0-9]{2,4})\", file_name).group(0))\n",
    "    if cond == 2019:\n",
    "        dat = pd.read_csv(os.path.join(FILE_DIR, file_name), encoding=\"latin-1\")\n",
    "        dat.rename(columns=columns_to_rename, inplace=True)\n",
    "    else:\n",
    "        dat = pd.read_csv(os.path.join(FILE_DIR, file_name), encoding=\"latin-1\")\n",
    "        if cond == 2023:\n",
    "            dat.rename(\n",
    "                columns={\"CMS Certification Number (CCN)\": \"Federal Provider Number\"},\n",
    "                inplace=True,\n",
    "            )\n",
    "    dat = dat[columns_to_keep]\n",
    "    prvdr = pd.concat([prvdr, dat], ignore_index=True)"
   ]
  },
  {
   "cell_type": "code",
   "execution_count": 7,
   "id": "3bdcefa3-efbe-40c6-820e-0d55291cb356",
   "metadata": {},
   "outputs": [],
   "source": [
    "# Prefer the short names from 2019 table (using it)\n",
    "rename_cols = {item: key.lower() for key, item in columns_to_rename.items()}"
   ]
  },
  {
   "cell_type": "code",
   "execution_count": 8,
   "id": "fbd3facf-5874-458d-8c8e-382b1a571c6d",
   "metadata": {},
   "outputs": [],
   "source": [
    "prvdr.rename(columns=rename_cols, inplace=True)\n",
    "prvdr.rename(columns={\"provnum\": \"facility_id\"}, inplace=True)"
   ]
  },
  {
   "cell_type": "code",
   "execution_count": 9,
   "id": "c7259460-06a1-4093-b3d9-a886b85d1db0",
   "metadata": {},
   "outputs": [],
   "source": [
    "prvdr[\"filedate\"] = pd.to_datetime(prvdr.filedate)\n",
    "prvdr[\"insp_year\"] = prvdr.filedate.dt.year"
   ]
  },
  {
   "cell_type": "code",
   "execution_count": 184,
   "id": "577ef152-008d-4a43-ac88-2cf1048606b5",
   "metadata": {},
   "outputs": [
    {
     "data": {
      "text/html": [
       "<div>\n",
       "<style scoped>\n",
       "    .dataframe tbody tr th:only-of-type {\n",
       "        vertical-align: middle;\n",
       "    }\n",
       "\n",
       "    .dataframe tbody tr th {\n",
       "        vertical-align: top;\n",
       "    }\n",
       "\n",
       "    .dataframe thead th {\n",
       "        text-align: right;\n",
       "    }\n",
       "</style>\n",
       "<table border=\"1\" class=\"dataframe\">\n",
       "  <thead>\n",
       "    <tr style=\"text-align: right;\">\n",
       "      <th></th>\n",
       "      <th>provnum</th>\n",
       "      <th>ownership</th>\n",
       "      <th>bedcert</th>\n",
       "      <th>restot</th>\n",
       "      <th>certification</th>\n",
       "      <th>inhosp</th>\n",
       "      <th>chow_last_12mos</th>\n",
       "      <th>resfamcouncil</th>\n",
       "      <th>survey_rating</th>\n",
       "      <th>aidhrd</th>\n",
       "      <th>...</th>\n",
       "      <th>adj_total</th>\n",
       "      <th>weighted_all_cycles_score</th>\n",
       "      <th>incident_cnt</th>\n",
       "      <th>cmplnt_cnt</th>\n",
       "      <th>fine_cnt</th>\n",
       "      <th>fine_tot</th>\n",
       "      <th>payden_cnt</th>\n",
       "      <th>tot_penlty_cnt</th>\n",
       "      <th>filedate</th>\n",
       "      <th>year</th>\n",
       "    </tr>\n",
       "  </thead>\n",
       "  <tbody>\n",
       "    <tr>\n",
       "      <th>0</th>\n",
       "      <td>015009</td>\n",
       "      <td>For profit - Corporation</td>\n",
       "      <td>57</td>\n",
       "      <td>53.2</td>\n",
       "      <td>Medicare and Medicaid</td>\n",
       "      <td>N</td>\n",
       "      <td>N</td>\n",
       "      <td>Both</td>\n",
       "      <td>5.0</td>\n",
       "      <td>NaN</td>\n",
       "      <td>...</td>\n",
       "      <td>NaN</td>\n",
       "      <td>5.333</td>\n",
       "      <td>0</td>\n",
       "      <td>0</td>\n",
       "      <td>0</td>\n",
       "      <td>0.00</td>\n",
       "      <td>0</td>\n",
       "      <td>0</td>\n",
       "      <td>2021-11-01</td>\n",
       "      <td>2021</td>\n",
       "    </tr>\n",
       "    <tr>\n",
       "      <th>1</th>\n",
       "      <td>015010</td>\n",
       "      <td>For profit - Corporation</td>\n",
       "      <td>85</td>\n",
       "      <td>72.5</td>\n",
       "      <td>Medicare and Medicaid</td>\n",
       "      <td>N</td>\n",
       "      <td>N</td>\n",
       "      <td>Both</td>\n",
       "      <td>4.0</td>\n",
       "      <td>2.69344</td>\n",
       "      <td>...</td>\n",
       "      <td>4.98569</td>\n",
       "      <td>18.667</td>\n",
       "      <td>0</td>\n",
       "      <td>0</td>\n",
       "      <td>1</td>\n",
       "      <td>650.00</td>\n",
       "      <td>0</td>\n",
       "      <td>1</td>\n",
       "      <td>2021-11-01</td>\n",
       "      <td>2021</td>\n",
       "    </tr>\n",
       "    <tr>\n",
       "      <th>2</th>\n",
       "      <td>015012</td>\n",
       "      <td>Government - County</td>\n",
       "      <td>50</td>\n",
       "      <td>40.3</td>\n",
       "      <td>Medicare and Medicaid</td>\n",
       "      <td>Y</td>\n",
       "      <td>N</td>\n",
       "      <td>Resident</td>\n",
       "      <td>1.0</td>\n",
       "      <td>1.32635</td>\n",
       "      <td>...</td>\n",
       "      <td>2.07468</td>\n",
       "      <td>30.667</td>\n",
       "      <td>0</td>\n",
       "      <td>0</td>\n",
       "      <td>0</td>\n",
       "      <td>0.00</td>\n",
       "      <td>0</td>\n",
       "      <td>0</td>\n",
       "      <td>2021-11-01</td>\n",
       "      <td>2021</td>\n",
       "    </tr>\n",
       "    <tr>\n",
       "      <th>3</th>\n",
       "      <td>015014</td>\n",
       "      <td>For profit - Individual</td>\n",
       "      <td>92</td>\n",
       "      <td>68.1</td>\n",
       "      <td>Medicare and Medicaid</td>\n",
       "      <td>N</td>\n",
       "      <td>N</td>\n",
       "      <td>Both</td>\n",
       "      <td>3.0</td>\n",
       "      <td>NaN</td>\n",
       "      <td>...</td>\n",
       "      <td>NaN</td>\n",
       "      <td>12.667</td>\n",
       "      <td>0</td>\n",
       "      <td>0</td>\n",
       "      <td>0</td>\n",
       "      <td>0.00</td>\n",
       "      <td>0</td>\n",
       "      <td>0</td>\n",
       "      <td>2021-11-01</td>\n",
       "      <td>2021</td>\n",
       "    </tr>\n",
       "    <tr>\n",
       "      <th>4</th>\n",
       "      <td>015015</td>\n",
       "      <td>For profit - Individual</td>\n",
       "      <td>103</td>\n",
       "      <td>75.7</td>\n",
       "      <td>Medicare and Medicaid</td>\n",
       "      <td>N</td>\n",
       "      <td>N</td>\n",
       "      <td>Resident</td>\n",
       "      <td>3.0</td>\n",
       "      <td>2.23481</td>\n",
       "      <td>...</td>\n",
       "      <td>4.21466</td>\n",
       "      <td>16.0</td>\n",
       "      <td>0</td>\n",
       "      <td>1</td>\n",
       "      <td>4</td>\n",
       "      <td>31235.75</td>\n",
       "      <td>0</td>\n",
       "      <td>4</td>\n",
       "      <td>2021-11-01</td>\n",
       "      <td>2021</td>\n",
       "    </tr>\n",
       "  </tbody>\n",
       "</table>\n",
       "<p>5 rows × 31 columns</p>\n",
       "</div>"
      ],
      "text/plain": [
       "  provnum                 ownership  bedcert  restot          certification  \\\n",
       "0  015009  For profit - Corporation       57    53.2  Medicare and Medicaid   \n",
       "1  015010  For profit - Corporation       85    72.5  Medicare and Medicaid   \n",
       "2  015012       Government - County       50    40.3  Medicare and Medicaid   \n",
       "3  015014   For profit - Individual       92    68.1  Medicare and Medicaid   \n",
       "4  015015   For profit - Individual      103    75.7  Medicare and Medicaid   \n",
       "\n",
       "  inhosp chow_last_12mos resfamcouncil  survey_rating   aidhrd  ...  \\\n",
       "0      N               N          Both            5.0      NaN  ...   \n",
       "1      N               N          Both            4.0  2.69344  ...   \n",
       "2      Y               N      Resident            1.0  1.32635  ...   \n",
       "3      N               N          Both            3.0      NaN  ...   \n",
       "4      N               N      Resident            3.0  2.23481  ...   \n",
       "\n",
       "   adj_total  weighted_all_cycles_score  incident_cnt  cmplnt_cnt  fine_cnt  \\\n",
       "0        NaN                      5.333             0           0         0   \n",
       "1    4.98569                     18.667             0           0         1   \n",
       "2    2.07468                     30.667             0           0         0   \n",
       "3        NaN                     12.667             0           0         0   \n",
       "4    4.21466                       16.0             0           1         4   \n",
       "\n",
       "   fine_tot  payden_cnt  tot_penlty_cnt   filedate  year  \n",
       "0      0.00           0               0 2021-11-01  2021  \n",
       "1    650.00           0               1 2021-11-01  2021  \n",
       "2      0.00           0               0 2021-11-01  2021  \n",
       "3      0.00           0               0 2021-11-01  2021  \n",
       "4  31235.75           0               4 2021-11-01  2021  \n",
       "\n",
       "[5 rows x 31 columns]"
      ]
     },
     "execution_count": 184,
     "metadata": {},
     "output_type": "execute_result"
    }
   ],
   "source": [
    "prvdr.head()"
   ]
  },
  {
   "cell_type": "code",
   "execution_count": 10,
   "id": "454b0c8d-39bd-4a18-8636-99b49e1d8a79",
   "metadata": {},
   "outputs": [],
   "source": [
    "prvdr.to_csv(\"nh_providers_list_cms.csv\")"
   ]
  },
  {
   "cell_type": "markdown",
   "id": "992adbad-2a8a-4c91-9c5b-87a806d2dba3",
   "metadata": {},
   "source": [
    "#### Convert facility characteristcs data to pyspark data"
   ]
  },
  {
   "cell_type": "code",
   "execution_count": 218,
   "id": "586fbf01-c85b-4242-9c91-ae4f57eaf790",
   "metadata": {},
   "outputs": [],
   "source": [
    "prvdr_sp = spark.createDataFrame(prvdr)"
   ]
  },
  {
   "cell_type": "markdown",
   "id": "58334e19-0086-4de6-aa37-1c83e4ba8e6e",
   "metadata": {},
   "source": [
    "# NH Citations & Characteristics data \n",
    "## Merge Facility Chars with Tags Data"
   ]
  },
  {
   "cell_type": "code",
   "execution_count": 223,
   "id": "1b6efa49-4363-4bf7-93d2-5fa87c626a5d",
   "metadata": {},
   "outputs": [],
   "source": [
    "f_insp_chr = mm3.join(prvdr_sp, on=[\"insp_year\", \"facility_id\"], how=\"left\")"
   ]
  },
  {
   "cell_type": "code",
   "execution_count": 225,
   "id": "73a7d27d-92b3-4275-be2f-938d08d31158",
   "metadata": {},
   "outputs": [
    {
     "name": "stderr",
     "output_type": "stream",
     "text": [
      "24/05/31 10:11:59 WARN TaskSetManager: Stage 82 contains a task of very large size (1807 KiB). The maximum recommended task size is 1000 KiB.\n",
      "                                                                                \r"
     ]
    },
    {
     "data": {
      "text/plain": [
       "60668"
      ]
     },
     "execution_count": 225,
     "metadata": {},
     "output_type": "execute_result"
    }
   ],
   "source": [
    "f_insp_chr.count()"
   ]
  },
  {
   "cell_type": "code",
   "execution_count": 227,
   "id": "9d81e79f-ea8f-464c-870f-8b9ec2d2d4a6",
   "metadata": {},
   "outputs": [
    {
     "name": "stderr",
     "output_type": "stream",
     "text": [
      "24/05/31 10:19:46 WARN TaskSetManager: Stage 97 contains a task of very large size (1807 KiB). The maximum recommended task size is 1000 KiB.\n",
      "                                                                                \r"
     ]
    },
    {
     "name": "stdout",
     "output_type": "stream",
     "text": [
      "+---------+-----+\n",
      "|insp_year|count|\n",
      "+---------+-----+\n",
      "|     2018|13616|\n",
      "|     2022|11459|\n",
      "|     2019|13808|\n",
      "|     2020|10316|\n",
      "|     2021|11469|\n",
      "+---------+-----+\n",
      "\n"
     ]
    }
   ],
   "source": [
    "f_insp_chr.select(\"insp_year\").groupBy(\"insp_year\").count().show()"
   ]
  },
  {
   "cell_type": "code",
   "execution_count": 228,
   "id": "d6f18046-f570-4f59-9805-b273fcd391cb",
   "metadata": {},
   "outputs": [
    {
     "name": "stderr",
     "output_type": "stream",
     "text": [
      "24/05/31 10:19:56 WARN TaskSetManager: Stage 116 contains a task of very large size (1807 KiB). The maximum recommended task size is 1000 KiB.\n",
      "24/05/31 10:20:07 WARN MemoryManager: Total allocation exceeds 95.00% (941,359,092 bytes) of heap memory\n",
      "Scaling row group sizes to 87.67% for 8 writers\n",
      "                                                                                \r"
     ]
    }
   ],
   "source": [
    "f_insp_chr.write.parquet(\"nh_insp_char_2019_2022\")"
   ]
  },
  {
   "cell_type": "code",
   "execution_count": null,
   "id": "eb5f6026-a85b-4c39-ace2-bac55444f572",
   "metadata": {},
   "outputs": [],
   "source": []
  }
 ],
 "metadata": {
  "kernelspec": {
   "display_name": "ml_disab_310",
   "language": "python",
   "name": "ml_disab_310"
  },
  "language_info": {
   "codemirror_mode": {
    "name": "ipython",
    "version": 3
   },
   "file_extension": ".py",
   "mimetype": "text/x-python",
   "name": "python",
   "nbconvert_exporter": "python",
   "pygments_lexer": "ipython3",
   "version": "3.10.4"
  }
 },
 "nbformat": 4,
 "nbformat_minor": 5
}
