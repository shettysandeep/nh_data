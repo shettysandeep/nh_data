{
 "cells": [
  {
   "cell_type": "markdown",
   "id": "6f568056-460d-48e0-a9cf-a4f4dabc2bc6",
   "metadata": {},
   "source": [
    "# Nursing Home Data Exploration \n",
    "date: June 5, 2024  \n",
    "Using the merged data (inspection + characteristics + Lat Long data)"
   ]
  },
  {
   "cell_type": "code",
   "execution_count": 2,
   "id": "9375a3da-2f85-4651-a112-662532a919d5",
   "metadata": {},
   "outputs": [
    {
     "data": {
      "text/html": [
       "\n",
       "                <script type=\"application/javascript\" id=\"jupyter_black\">\n",
       "                (function() {\n",
       "                    if (window.IPython === undefined) {\n",
       "                        return\n",
       "                    }\n",
       "                    var msg = \"WARNING: it looks like you might have loaded \" +\n",
       "                        \"jupyter_black in a non-lab notebook with \" +\n",
       "                        \"`is_lab=True`. Please double check, and if \" +\n",
       "                        \"loading with `%load_ext` please review the README!\"\n",
       "                    console.log(msg)\n",
       "                    alert(msg)\n",
       "                })()\n",
       "                </script>\n",
       "                "
      ],
      "text/plain": [
       "<IPython.core.display.HTML object>"
      ]
     },
     "metadata": {},
     "output_type": "display_data"
    }
   ],
   "source": [
    "%load_ext jupyter_black"
   ]
  },
  {
   "cell_type": "code",
   "execution_count": 3,
   "id": "88c004c0-b325-428f-99ee-b87a46ba4078",
   "metadata": {},
   "outputs": [],
   "source": [
    "import pandas as pd\n",
    "import seaborn as sns\n",
    "import matplotlib.pyplot as plt\n",
    "from pyspark.sql import SparkSession\n",
    "from pyspark.sql.window import Window\n",
    "from pyspark.sql.functions import when, col, udf, pandas_udf, PandasUDFType\n",
    "import pyspark.sql.functions as F\n",
    "from collections import Counter\n",
    "from pyspark.sql.types import *\n",
    "import statsmodels.api as sm\n",
    "import numpy as np\n",
    "\n",
    "\n",
    "pd.set_option(\"display.max.rows\", 500)\n",
    "pd.set_option(\"display.max.columns\", 500)"
   ]
  },
  {
   "cell_type": "code",
   "execution_count": 4,
   "id": "76b3af35-fb49-4ed0-a52a-3b2ed23ae768",
   "metadata": {},
   "outputs": [],
   "source": [
    "# Visualization\n",
    "from IPython.core.interactiveshell import InteractiveShell\n",
    "\n",
    "InteractiveShell.ast_node_interactivity = \"all\"\n",
    "\n",
    "pd.set_option(\"display.max_columns\", 200)\n",
    "pd.set_option(\"display.max_colwidth\", 400)\n",
    "\n",
    "from matplotlib import rcParams\n",
    "\n",
    "sns.set(context=\"notebook\", style=\"whitegrid\", rc={\"figure.figsize\": (18, 4)})\n",
    "rcParams[\"figure.figsize\"] = 18, 4\n",
    "\n",
    "%matplotlib inline\n",
    "%config InlineBackend.figure_format = 'retina'"
   ]
  },
  {
   "cell_type": "code",
   "execution_count": 5,
   "id": "b1798df8-f82e-46b2-bc51-cefa495d247e",
   "metadata": {},
   "outputs": [
    {
     "name": "stderr",
     "output_type": "stream",
     "text": [
      "Setting default log level to \"WARN\".\n",
      "To adjust logging level use sc.setLogLevel(newLevel). For SparkR, use setLogLevel(newLevel).\n",
      "24/06/05 11:11:54 WARN NativeCodeLoader: Unable to load native-hadoop library for your platform... using builtin-java classes where applicable\n"
     ]
    },
    {
     "data": {
      "text/plain": [
       "DataFrame[key: string, value: string]"
      ]
     },
     "execution_count": 5,
     "metadata": {},
     "output_type": "execute_result"
    }
   ],
   "source": [
    "spark = SparkSession.builder.appName(\"NH_data_analysis\").getOrCreate()\n",
    "spark.sql(\"set spark.sql.legacy.timeParserPolicy=CORRECTED\")"
   ]
  },
  {
   "cell_type": "code",
   "execution_count": 7,
   "id": "caf30911-8f43-4854-9807-542f414f273a",
   "metadata": {},
   "outputs": [
    {
     "name": "stderr",
     "output_type": "stream",
     "text": [
      "                                                                                \r"
     ]
    }
   ],
   "source": [
    "nh_data = spark.read.parquet(\"../nh_data/nh_insp_char_2019_2022\")"
   ]
  },
  {
   "cell_type": "code",
   "execution_count": 8,
   "id": "9ad99938-f75b-41aa-91c6-89ea40f5e969",
   "metadata": {},
   "outputs": [
    {
     "name": "stderr",
     "output_type": "stream",
     "text": [
      "24/06/05 11:12:22 WARN SparkStringUtils: Truncated the string representation of a plan since it was too large. This behavior can be adjusted by setting 'spark.sql.debug.maxToStringFields'.\n",
      "                                                                                \r"
     ]
    },
    {
     "data": {
      "text/plain": [
       "44867"
      ]
     },
     "execution_count": 8,
     "metadata": {},
     "output_type": "execute_result"
    }
   ],
   "source": [
    "nh_data = nh_data.dropDuplicates()\n",
    "nh_data = nh_data.dropna(how=\"any\")\n",
    "nh_data.count()"
   ]
  },
  {
   "cell_type": "markdown",
   "id": "7c28aa0f-411f-41fb-9d1d-07c5c2b07c9f",
   "metadata": {},
   "source": [
    "## Geocoding NH location"
   ]
  },
  {
   "cell_type": "code",
   "execution_count": 9,
   "id": "cebafb75-754f-457b-a213-d83c1884b980",
   "metadata": {},
   "outputs": [],
   "source": [
    "nh_geo = spark.read.csv(\"../nh_data/nh_LatLon_deftags_2024.csv\")\n",
    "cols = [\"facility_id\", \"insp_year\", \"lat\", \"lon\", \"def_tags\"]\n",
    "zipped = dict(zip(nh_geo.columns, cols))\n",
    "nh_geo = nh_geo.withColumnsRenamed(zipped)\n",
    "nh_geo = nh_geo.select(\"facility_id\", \"insp_year\", \"lat\", \"lon\").dropDuplicates()\n",
    "nh_data = nh_data.join(nh_geo, on=[\"facility_id\", \"insp_year\"])"
   ]
  },
  {
   "cell_type": "code",
   "execution_count": null,
   "id": "1a11a239-247c-4698-8400-cae06371bae1",
   "metadata": {},
   "outputs": [],
   "source": []
  }
 ],
 "metadata": {
  "kernelspec": {
   "display_name": "ml_disab_310",
   "language": "python",
   "name": "ml_disab_310"
  },
  "language_info": {
   "codemirror_mode": {
    "name": "ipython",
    "version": 3
   },
   "file_extension": ".py",
   "mimetype": "text/x-python",
   "name": "python",
   "nbconvert_exporter": "python",
   "pygments_lexer": "ipython3",
   "version": "3.10.4"
  }
 },
 "nbformat": 4,
 "nbformat_minor": 5
}
