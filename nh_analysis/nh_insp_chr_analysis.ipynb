{
 "cells": [
  {
   "cell_type": "markdown",
   "id": "3bfec45f-611b-4997-b831-63fda8c5c849",
   "metadata": {},
   "source": [
    "# Nursing Home Data Analysis using PySpark ML\n",
    "Using NH 2567 deficiency tags data, merge with Facility-level Characteristics to study `(TBD)`  \n",
    "https://www.kaggle.com/code/fatmakursun/pyspark-ml-tutorial-for-beginners  \n",
    "\n",
    "**Date: June 1, 2024**  \n",
    "**Author: Sandeep**  \n"
   ]
  },
  {
   "cell_type": "code",
   "execution_count": 1,
   "id": "1cc5292c-2b09-48b9-bdbe-1c922b3e1b21",
   "metadata": {},
   "outputs": [
    {
     "data": {
      "text/html": [
       "\n",
       "                <script type=\"application/javascript\" id=\"jupyter_black\">\n",
       "                (function() {\n",
       "                    if (window.IPython === undefined) {\n",
       "                        return\n",
       "                    }\n",
       "                    var msg = \"WARNING: it looks like you might have loaded \" +\n",
       "                        \"jupyter_black in a non-lab notebook with \" +\n",
       "                        \"`is_lab=True`. Please double check, and if \" +\n",
       "                        \"loading with `%load_ext` please review the README!\"\n",
       "                    console.log(msg)\n",
       "                    alert(msg)\n",
       "                })()\n",
       "                </script>\n",
       "                "
      ],
      "text/plain": [
       "<IPython.core.display.HTML object>"
      ]
     },
     "metadata": {},
     "output_type": "display_data"
    }
   ],
   "source": [
    "%load_ext jupyter_black"
   ]
  },
  {
   "cell_type": "code",
   "execution_count": 2,
   "id": "9b6e298f-3ac9-44d0-9080-ace226967faf",
   "metadata": {},
   "outputs": [],
   "source": [
    "import pandas as pd\n",
    "import seaborn as sns\n",
    "import matplotlib.pyplot as plt\n",
    "from pyspark.sql import SparkSession\n",
    "from pyspark.sql.window import Window\n",
    "from pyspark.sql.functions import when, col, udf, pandas_udf, PandasUDFType\n",
    "import pyspark.sql.functions as F\n",
    "from collections import Counter\n",
    "from pyspark.sql.types import *\n",
    "import statsmodels.api as sm\n",
    "import numpy as np"
   ]
  },
  {
   "cell_type": "code",
   "execution_count": 3,
   "id": "bdc11cbe-5ad4-439a-8ce6-fbc647082cde",
   "metadata": {},
   "outputs": [],
   "source": [
    "from pyspark.ml.regression import LinearRegression\n",
    "from pyspark.mllib.evaluation import RegressionMetrics"
   ]
  },
  {
   "cell_type": "code",
   "execution_count": 31,
   "id": "7c1d8028-2fdd-4b0f-bb86-ff7b5d26eccd",
   "metadata": {},
   "outputs": [],
   "source": [
    "from pyspark.ml.tuning import ParamGridBuilder, CrossValidator, CrossValidatorModel\n",
    "from pyspark.ml.feature import (\n",
    "    VectorAssembler,\n",
    "    StandardScaler,\n",
    "    StringIndexer,\n",
    "    OneHotEncoder,\n",
    ")\n",
    "from pyspark.ml.evaluation import RegressionEvaluator"
   ]
  },
  {
   "cell_type": "code",
   "execution_count": 5,
   "id": "6c5bd45e-c2f2-47c8-8c52-933f6a1e0083",
   "metadata": {},
   "outputs": [],
   "source": [
    "# Visualization\n",
    "from IPython.core.interactiveshell import InteractiveShell\n",
    "\n",
    "InteractiveShell.ast_node_interactivity = \"all\"\n",
    "\n",
    "pd.set_option(\"display.max_columns\", 200)\n",
    "pd.set_option(\"display.max_colwidth\", 400)\n",
    "\n",
    "from matplotlib import rcParams\n",
    "\n",
    "sns.set(context=\"notebook\", style=\"whitegrid\", rc={\"figure.figsize\": (18, 4)})\n",
    "rcParams[\"figure.figsize\"] = 18, 4\n",
    "\n",
    "%matplotlib inline\n",
    "%config InlineBackend.figure_format = 'retina'"
   ]
  },
  {
   "cell_type": "code",
   "execution_count": 6,
   "id": "a095c68e-eb56-4757-941d-04810537b44b",
   "metadata": {},
   "outputs": [],
   "source": [
    "# setting random seed for notebook reproducability\n",
    "rnd_seed = 23\n",
    "np.random.seed = rnd_seed\n",
    "np.random.set_state = rnd_seed"
   ]
  },
  {
   "cell_type": "code",
   "execution_count": 7,
   "id": "ebf3a5d4-5bc6-4a95-8143-6a392d2f1cad",
   "metadata": {},
   "outputs": [
    {
     "name": "stderr",
     "output_type": "stream",
     "text": [
      "Setting default log level to \"WARN\".\n",
      "To adjust logging level use sc.setLogLevel(newLevel). For SparkR, use setLogLevel(newLevel).\n",
      "24/06/04 12:22:02 WARN NativeCodeLoader: Unable to load native-hadoop library for your platform... using builtin-java classes where applicable\n"
     ]
    },
    {
     "data": {
      "text/plain": [
       "DataFrame[key: string, value: string]"
      ]
     },
     "execution_count": 7,
     "metadata": {},
     "output_type": "execute_result"
    }
   ],
   "source": [
    "spark = SparkSession.builder.appName(\"NH_data_analysis\").getOrCreate()\n",
    "spark.sql(\"set spark.sql.legacy.timeParserPolicy=CORRECTED\")"
   ]
  },
  {
   "cell_type": "code",
   "execution_count": 8,
   "id": "18399f38-08bc-4370-9048-8e5574b7b1fc",
   "metadata": {},
   "outputs": [
    {
     "data": {
      "text/html": [
       "\n",
       "        <div>\n",
       "            <p><b>SparkContext</b></p>\n",
       "\n",
       "            <p><a href=\"http://c02d7cyhml7h:4040\">Spark UI</a></p>\n",
       "\n",
       "            <dl>\n",
       "              <dt>Version</dt>\n",
       "                <dd><code>v3.5.1</code></dd>\n",
       "              <dt>Master</dt>\n",
       "                <dd><code>local[*]</code></dd>\n",
       "              <dt>AppName</dt>\n",
       "                <dd><code>NH_data_analysis</code></dd>\n",
       "            </dl>\n",
       "        </div>\n",
       "        "
      ],
      "text/plain": [
       "<SparkContext master=local[*] appName=NH_data_analysis>"
      ]
     },
     "execution_count": 8,
     "metadata": {},
     "output_type": "execute_result"
    }
   ],
   "source": [
    "sc = spark.sparkContext\n",
    "sc"
   ]
  },
  {
   "cell_type": "code",
   "execution_count": 9,
   "id": "0b53e437-2f48-432a-9b02-7b2df579d7ac",
   "metadata": {},
   "outputs": [
    {
     "name": "stderr",
     "output_type": "stream",
     "text": [
      "                                                                                \r"
     ]
    }
   ],
   "source": [
    "nh_data = spark.read.parquet(\"nh_insp_char_2019_2022\")"
   ]
  },
  {
   "cell_type": "code",
   "execution_count": 10,
   "id": "8fcc53be-f951-4f6a-b760-39485d47c0ec",
   "metadata": {},
   "outputs": [
    {
     "data": {
      "text/plain": [
       "60668"
      ]
     },
     "execution_count": 10,
     "metadata": {},
     "output_type": "execute_result"
    }
   ],
   "source": [
    "nh_data.count()"
   ]
  },
  {
   "cell_type": "code",
   "execution_count": 11,
   "id": "f5a3a0a0-5551-4ff8-8a15-d8c798a5de01",
   "metadata": {},
   "outputs": [
    {
     "name": "stderr",
     "output_type": "stream",
     "text": [
      "24/06/04 12:22:14 WARN SparkStringUtils: Truncated the string representation of a plan since it was too large. This behavior can be adjusted by setting 'spark.sql.debug.maxToStringFields'.\n",
      "                                                                                \r"
     ]
    },
    {
     "data": {
      "text/plain": [
       "44867"
      ]
     },
     "execution_count": 11,
     "metadata": {},
     "output_type": "execute_result"
    }
   ],
   "source": [
    "nh_data = nh_data.dropDuplicates()\n",
    "nh_data_d = nh_data.dropna(how=\"any\")\n",
    "nh_data_d.count()"
   ]
  },
  {
   "cell_type": "markdown",
   "id": "3160ae9b-338c-44a9-872d-ea33b68bdf9c",
   "metadata": {},
   "source": [
    "## ML experiments\n",
    "\n",
    "The test-drive outcome is the `number of tags` that a facility receives per year - more tags is bad. Using a cross-section of data from 2022, which spans all states, and NHs from all states that have been inspected."
   ]
  },
  {
   "cell_type": "code",
   "execution_count": 145,
   "id": "9b6679fc-1659-4566-a22f-842daff45c1a",
   "metadata": {},
   "outputs": [],
   "source": [
    "n2022 = nh_data_d.filter(nh_data_d.insp_year == 2022)"
   ]
  },
  {
   "cell_type": "code",
   "execution_count": 146,
   "id": "ebf6a0c2-6bf4-42cd-bdd2-5b9c4a41ec22",
   "metadata": {},
   "outputs": [],
   "source": [
    "featureCols = [\n",
    "    \"state\",\n",
    "    \"no_of_tags_peryear\",\n",
    "    \"severe_tags_applied\",\n",
    "    \"fac_times_inpsected\",\n",
    "    \"count_nh_insp_st_yr\",\n",
    "    \"ownership\",\n",
    "    \"bedcert\",\n",
    "    \"restot\",\n",
    "    # \"chow_last_12mos\",\n",
    "    \"resfamcouncil\",\n",
    "    \"aidhrd\",\n",
    "    \"vochrd\",\n",
    "    \"rnhrd\",\n",
    "    # \"totlichrd\",\n",
    "    # \"tothrd\",\n",
    "    \"cm_aide\",\n",
    "    \"cm_lpn\",\n",
    "    \"cm_rn\",\n",
    "    # \"adj_aide\",\n",
    "    # \"adj_lpn\",\n",
    "    # \"adj_rn\",\n",
    "]"
   ]
  },
  {
   "cell_type": "code",
   "execution_count": 147,
   "id": "c7bd0e43-d98c-4a12-adba-0562ba12bf6a",
   "metadata": {},
   "outputs": [],
   "source": [
    "n2022 = n2022.select(featureCols)"
   ]
  },
  {
   "cell_type": "code",
   "execution_count": 148,
   "id": "ba9effe7-b859-4258-ab5b-bcf2dcc92caf",
   "metadata": {},
   "outputs": [],
   "source": [
    "# inps = [\"ownership\", \"chow_last_12mos\", \"resfamcouncil\", \"state\"]\n",
    "# outs = [\"ownIndex\", \"lst12Index\", \"resfamIndx\", \"stIndex\"]\n",
    "\n",
    "inps = [\"ownership\", \"resfamcouncil\", \"state\"]\n",
    "outs = [\"ownIndex\", \"resfamIndx\", \"stIndex\"]\n",
    "\n",
    "indexer = StringIndexer(inputCols=inps, outputCols=outs)\n",
    "# indexed.show()"
   ]
  },
  {
   "cell_type": "code",
   "execution_count": 149,
   "id": "e18f8e15-2db3-494f-a142-70b63fca433e",
   "metadata": {},
   "outputs": [
    {
     "name": "stderr",
     "output_type": "stream",
     "text": [
      "                                                                                \r"
     ]
    }
   ],
   "source": [
    "n2022_t = indexer.fit(n2022).transform(n2022)"
   ]
  },
  {
   "cell_type": "code",
   "execution_count": 150,
   "id": "f3ec1e34-e80a-4b6a-aef0-1b81a6179927",
   "metadata": {},
   "outputs": [],
   "source": [
    "featureCols.remove(\"state\")\n",
    "featureCols.remove(\"resfamcouncil\")\n",
    "featureCols.remove(\"ownership\")"
   ]
  },
  {
   "cell_type": "code",
   "execution_count": 151,
   "id": "45405da0-bbd8-48df-bdad-e20f29a74e8e",
   "metadata": {},
   "outputs": [],
   "source": [
    "featureCols += outs"
   ]
  },
  {
   "cell_type": "code",
   "execution_count": 152,
   "id": "79c36190-a0b4-4417-8d0b-43dae04422f2",
   "metadata": {},
   "outputs": [
    {
     "data": {
      "text/plain": [
       "15"
      ]
     },
     "execution_count": 152,
     "metadata": {},
     "output_type": "execute_result"
    }
   ],
   "source": [
    "len(featureCols)  # + len(st_names)"
   ]
  },
  {
   "cell_type": "code",
   "execution_count": 153,
   "id": "8eceb401-6a5a-46a6-b8bb-8f797c529d57",
   "metadata": {},
   "outputs": [
    {
     "data": {
      "text/plain": [
       "['no_of_tags_peryear',\n",
       " 'severe_tags_applied',\n",
       " 'fac_times_inpsected',\n",
       " 'count_nh_insp_st_yr',\n",
       " 'bedcert',\n",
       " 'restot',\n",
       " 'aidhrd',\n",
       " 'vochrd',\n",
       " 'rnhrd',\n",
       " 'cm_aide',\n",
       " 'cm_lpn',\n",
       " 'cm_rn',\n",
       " 'ownIndex',\n",
       " 'resfamIndx',\n",
       " 'stIndex']"
      ]
     },
     "execution_count": 153,
     "metadata": {},
     "output_type": "execute_result"
    }
   ],
   "source": [
    "featureCols"
   ]
  },
  {
   "cell_type": "code",
   "execution_count": 154,
   "id": "72a94bed-9c61-4c47-a484-37630dab1d2a",
   "metadata": {},
   "outputs": [],
   "source": [
    "n2022_t = n2022_t.select(featureCols)"
   ]
  },
  {
   "cell_type": "code",
   "execution_count": 155,
   "id": "816af1f9-2d8e-408f-83d8-33e36143aa70",
   "metadata": {},
   "outputs": [],
   "source": [
    "# target col is \"no_of_tags_peryear\"\n",
    "featureCols.remove(\"no_of_tags_peryear\")"
   ]
  },
  {
   "cell_type": "code",
   "execution_count": 157,
   "id": "0c9c15f1-1201-46a8-8b99-ffb1bc3541ea",
   "metadata": {},
   "outputs": [],
   "source": [
    "encoder = OneHotEncoder(inputCols=[\"stIndex\"], outputCols=[\"stIndex2\"])\n",
    "model = encoder.fit(n2022_t)\n",
    "n2022_t = model.transform(n2022_t)\n",
    "# encoded.show()"
   ]
  },
  {
   "cell_type": "code",
   "execution_count": 159,
   "id": "5f8fce3b-b78c-41de-893d-69204c3c575e",
   "metadata": {},
   "outputs": [],
   "source": [
    "featureCols.remove(\"stIndex\")"
   ]
  },
  {
   "cell_type": "code",
   "execution_count": 160,
   "id": "d8971c7d-5b57-430f-a30f-570ddb830286",
   "metadata": {},
   "outputs": [],
   "source": [
    "assembler = VectorAssembler(\n",
    "    inputCols=featureCols + [\"stIndex2\"],\n",
    "    outputCol=\"features\",\n",
    ")"
   ]
  },
  {
   "cell_type": "code",
   "execution_count": 161,
   "id": "cb8a0c21-6fd9-4eac-8278-f6483444f6b2",
   "metadata": {},
   "outputs": [],
   "source": [
    "assembled_df = assembler.transform(n2022_t.na.drop())"
   ]
  },
  {
   "cell_type": "code",
   "execution_count": 162,
   "id": "c685e557-5313-4443-aea9-7d593c899bfb",
   "metadata": {},
   "outputs": [],
   "source": [
    "# Initialize the `standardScaler`\n",
    "standardScaler = StandardScaler(inputCol=\"features\", outputCol=\"features_scaled\")"
   ]
  },
  {
   "cell_type": "code",
   "execution_count": 163,
   "id": "a7df4905-64eb-48b8-8ab5-2686a6e9fb84",
   "metadata": {},
   "outputs": [
    {
     "name": "stderr",
     "output_type": "stream",
     "text": [
      "                                                                                \r"
     ]
    }
   ],
   "source": [
    "# Fit the DataFrame to the scaler\n",
    "scaled_df = standardScaler.fit(assembled_df).transform(assembled_df)"
   ]
  },
  {
   "cell_type": "code",
   "execution_count": 164,
   "id": "3e3fbddb-78e6-4b00-aa2f-f5ca6066ab48",
   "metadata": {},
   "outputs": [],
   "source": [
    "# scaled_df.select([\"features\", \"features_scaled\"]).show()"
   ]
  },
  {
   "cell_type": "code",
   "execution_count": 165,
   "id": "5969b3f7-bc75-4129-857f-98459997385c",
   "metadata": {},
   "outputs": [],
   "source": [
    "# Inspect the result\n",
    "# scaled_df.select(\"features\", \"features_scaled\").show(10, truncate=False)"
   ]
  },
  {
   "cell_type": "code",
   "execution_count": 166,
   "id": "e31b916b-611d-4e69-99d9-41a51e38b845",
   "metadata": {},
   "outputs": [],
   "source": [
    "train_data, test_data = scaled_df.randomSplit([0.8, 0.2], seed=rnd_seed)"
   ]
  },
  {
   "cell_type": "code",
   "execution_count": 44,
   "id": "1fe88261-0b92-40c5-ae79-3b97632a531b",
   "metadata": {},
   "outputs": [
    {
     "name": "stderr",
     "output_type": "stream",
     "text": [
      "                                                                                \r"
     ]
    },
    {
     "data": {
      "text/plain": [
       "Row(no_of_tags_peryear=1, severe_tags_applied=0, fac_times_inpsected=1, count_nh_insp_st_yr=15, bedcert=67, restot=66.2, aidhrd=2.42317, vochrd=0.33724, rnhrd=1.90859, cm_aide=1.9972, cm_lpn=0.70855, cm_rn=0.3291, ownIndex=0.0, resfamIndx=0.0, stIndex=49.0, stIndex2=SparseVector(52, {49: 1.0}), features=SparseVector(66, {1: 1.0, 2: 15.0, 3: 67.0, 4: 66.2, 5: 2.4232, 6: 0.3372, 7: 1.9086, 8: 1.9972, 9: 0.7086, 10: 0.3291, 13: 49.0, 63: 1.0}), features_scaled=SparseVector(66, {1: 0.5335, 2: 0.0461, 3: 1.1251, 4: 1.4146, 5: 4.1827, 6: 0.9324, 7: 4.4687, 8: 12.4074, 9: 8.5604, 10: 2.8153, 13: 4.2442, 63: 27.8747}))"
      ]
     },
     "execution_count": 44,
     "metadata": {},
     "output_type": "execute_result"
    }
   ],
   "source": [
    "train_data.head()"
   ]
  },
  {
   "cell_type": "code",
   "execution_count": 167,
   "id": "71390d99-9fd1-477a-9105-f6c4827f800e",
   "metadata": {},
   "outputs": [],
   "source": [
    "# Initialize `lr`\n",
    "lr = LinearRegression(\n",
    "    featuresCol=\"features_scaled\",\n",
    "    labelCol=\"no_of_tags_peryear\",\n",
    "    predictionCol=\"pr_no_of_tags_peryear\",\n",
    "    maxIter=10,\n",
    "    regParam=0.3,\n",
    "    elasticNetParam=0.8,\n",
    "    standardization=False,\n",
    ")"
   ]
  },
  {
   "cell_type": "code",
   "execution_count": 168,
   "id": "821365b5-28eb-4728-8d27-e7f079bc3173",
   "metadata": {},
   "outputs": [
    {
     "name": "stderr",
     "output_type": "stream",
     "text": [
      "                                                                                \r"
     ]
    }
   ],
   "source": [
    "linearModel = lr.fit(train_data)"
   ]
  },
  {
   "cell_type": "code",
   "execution_count": 169,
   "id": "5c740537-dc7f-4760-bcb1-072645bdb2cd",
   "metadata": {},
   "outputs": [
    {
     "data": {
      "text/plain": [
       "(array([ 2.3457793 ,  2.57524982, -0.10826511,  0.        ,  0.        ,\n",
       "        -0.11830393,  0.        , -0.12504005,  0.        ,  0.        ,\n",
       "         0.        , -0.07487621,  0.        , -0.3070102 ,  0.        ,\n",
       "         0.        , -0.0359105 ,  0.1049263 ,  0.        ,  0.        ,\n",
       "         0.26635876,  0.        ,  0.        ,  0.        ,  0.        ,\n",
       "        -0.15359992,  0.        ,  0.261833  ,  0.        ,  0.        ,\n",
       "         0.        ,  0.        ,  0.        ,  0.        ,  0.        ,\n",
       "         0.30943394,  0.138388  ,  0.        ,  0.        ,  0.        ,\n",
       "        -0.10954851,  0.02858452,  0.        ,  0.01627647,  0.34803056,\n",
       "        -0.02597418,  0.19275402,  0.        ,  0.        ,  0.09022829,\n",
       "         0.        ,  0.        ,  0.        ,  0.22451154,  0.06393095,\n",
       "         0.        ,  0.        ,  0.        ,  0.        ,  0.        ,\n",
       "         0.        ,  0.        ,  0.        ,  0.        ,  0.        ]),\n",
       " 0,\n",
       " 4.071445574081553)"
      ]
     },
     "execution_count": 169,
     "metadata": {},
     "output_type": "execute_result"
    }
   ],
   "source": [
    "linearModel.coefficients.toArray(), 0, linearModel.intercept"
   ]
  },
  {
   "cell_type": "code",
   "execution_count": 170,
   "id": "fad9a977-42aa-4e30-b54b-e3ce676925db",
   "metadata": {},
   "outputs": [
    {
     "data": {
      "text/plain": [
       "66"
      ]
     },
     "execution_count": 170,
     "metadata": {},
     "output_type": "execute_result"
    }
   ],
   "source": [
    "len([\"intercept\"] + featureCols + st_names)"
   ]
  },
  {
   "cell_type": "code",
   "execution_count": null,
   "id": "8966f2b6-9884-442c-8258-b4520128ce5c",
   "metadata": {},
   "outputs": [],
   "source": [
    "st_names = pd.DataFrame.from_records(\n",
    "    n2022_t.select(\"stIndex2\").schema[0].metadata[\"ml_attr\"][\"attrs\"][\"binary\"]\n",
    ")[\"name\"].to_list()"
   ]
  },
  {
   "cell_type": "code",
   "execution_count": 174,
   "id": "d74a8190-8578-4fd6-9a87-4e4e874c2be4",
   "metadata": {},
   "outputs": [],
   "source": [
    "coeff_df = pd.DataFrame(\n",
    "    {\n",
    "        \"Features\": [\"intercept\"] + featureCols + st_names,\n",
    "        \"Co-efficients\": np.insert(\n",
    "            linearModel.coefficients.toArray(), 0, linearModel.intercept\n",
    "        ),\n",
    "    }\n",
    ")\n",
    "coeff_df = coeff_df[[\"Features\", \"Co-efficients\"]]"
   ]
  },
  {
   "cell_type": "code",
   "execution_count": 178,
   "id": "b09b790b-e8a9-4e80-a138-5d586fda6bec",
   "metadata": {},
   "outputs": [
    {
     "data": {
      "text/html": [
       "<div>\n",
       "<style scoped>\n",
       "    .dataframe tbody tr th:only-of-type {\n",
       "        vertical-align: middle;\n",
       "    }\n",
       "\n",
       "    .dataframe tbody tr th {\n",
       "        vertical-align: top;\n",
       "    }\n",
       "\n",
       "    .dataframe thead th {\n",
       "        text-align: right;\n",
       "    }\n",
       "</style>\n",
       "<table border=\"1\" class=\"dataframe\">\n",
       "  <thead>\n",
       "    <tr style=\"text-align: right;\">\n",
       "      <th></th>\n",
       "      <th>0</th>\n",
       "      <th>1</th>\n",
       "      <th>2</th>\n",
       "      <th>3</th>\n",
       "      <th>4</th>\n",
       "      <th>5</th>\n",
       "      <th>6</th>\n",
       "      <th>7</th>\n",
       "      <th>8</th>\n",
       "      <th>9</th>\n",
       "      <th>10</th>\n",
       "      <th>11</th>\n",
       "      <th>12</th>\n",
       "      <th>13</th>\n",
       "      <th>14</th>\n",
       "      <th>15</th>\n",
       "      <th>16</th>\n",
       "      <th>17</th>\n",
       "      <th>18</th>\n",
       "      <th>19</th>\n",
       "      <th>20</th>\n",
       "      <th>21</th>\n",
       "      <th>22</th>\n",
       "      <th>23</th>\n",
       "      <th>24</th>\n",
       "      <th>25</th>\n",
       "      <th>26</th>\n",
       "      <th>27</th>\n",
       "      <th>28</th>\n",
       "      <th>29</th>\n",
       "      <th>30</th>\n",
       "      <th>31</th>\n",
       "      <th>32</th>\n",
       "      <th>33</th>\n",
       "      <th>34</th>\n",
       "      <th>35</th>\n",
       "      <th>36</th>\n",
       "      <th>37</th>\n",
       "      <th>38</th>\n",
       "      <th>39</th>\n",
       "      <th>40</th>\n",
       "      <th>41</th>\n",
       "      <th>42</th>\n",
       "      <th>43</th>\n",
       "      <th>44</th>\n",
       "      <th>45</th>\n",
       "      <th>46</th>\n",
       "      <th>47</th>\n",
       "      <th>48</th>\n",
       "      <th>49</th>\n",
       "      <th>50</th>\n",
       "      <th>51</th>\n",
       "      <th>52</th>\n",
       "      <th>53</th>\n",
       "      <th>54</th>\n",
       "      <th>55</th>\n",
       "      <th>56</th>\n",
       "      <th>57</th>\n",
       "      <th>58</th>\n",
       "      <th>59</th>\n",
       "      <th>60</th>\n",
       "      <th>61</th>\n",
       "      <th>62</th>\n",
       "      <th>63</th>\n",
       "      <th>64</th>\n",
       "      <th>65</th>\n",
       "    </tr>\n",
       "  </thead>\n",
       "  <tbody>\n",
       "    <tr>\n",
       "      <th>Features</th>\n",
       "      <td>intercept</td>\n",
       "      <td>severe_tags_applied</td>\n",
       "      <td>fac_times_inpsected</td>\n",
       "      <td>count_nh_insp_st_yr</td>\n",
       "      <td>bedcert</td>\n",
       "      <td>restot</td>\n",
       "      <td>aidhrd</td>\n",
       "      <td>vochrd</td>\n",
       "      <td>rnhrd</td>\n",
       "      <td>cm_aide</td>\n",
       "      <td>cm_lpn</td>\n",
       "      <td>cm_rn</td>\n",
       "      <td>ownIndex</td>\n",
       "      <td>resfamIndx</td>\n",
       "      <td>TX</td>\n",
       "      <td>CA</td>\n",
       "      <td>OH</td>\n",
       "      <td>IL</td>\n",
       "      <td>PA</td>\n",
       "      <td>FL</td>\n",
       "      <td>IN</td>\n",
       "      <td>MI</td>\n",
       "      <td>MO</td>\n",
       "      <td>NY</td>\n",
       "      <td>IA</td>\n",
       "      <td>NC</td>\n",
       "      <td>MN</td>\n",
       "      <td>WI</td>\n",
       "      <td>MA</td>\n",
       "      <td>LA</td>\n",
       "      <td>GA</td>\n",
       "      <td>KS</td>\n",
       "      <td>TN</td>\n",
       "      <td>AR</td>\n",
       "      <td>OK</td>\n",
       "      <td>NJ</td>\n",
       "      <td>VA</td>\n",
       "      <td>WA</td>\n",
       "      <td>NE</td>\n",
       "      <td>CO</td>\n",
       "      <td>CT</td>\n",
       "      <td>SC</td>\n",
       "      <td>AZ</td>\n",
       "      <td>MS</td>\n",
       "      <td>OR</td>\n",
       "      <td>WV</td>\n",
       "      <td>AL</td>\n",
       "      <td>MD</td>\n",
       "      <td>ME</td>\n",
       "      <td>KY</td>\n",
       "      <td>NM</td>\n",
       "      <td>RI</td>\n",
       "      <td>SD</td>\n",
       "      <td>NH</td>\n",
       "      <td>NV</td>\n",
       "      <td>UT</td>\n",
       "      <td>ND</td>\n",
       "      <td>MT</td>\n",
       "      <td>HI</td>\n",
       "      <td>WY</td>\n",
       "      <td>VT</td>\n",
       "      <td>ID</td>\n",
       "      <td>DE</td>\n",
       "      <td>AK</td>\n",
       "      <td>DC</td>\n",
       "      <td>PR</td>\n",
       "    </tr>\n",
       "    <tr>\n",
       "      <th>Co-efficients</th>\n",
       "      <td>4.071446</td>\n",
       "      <td>2.345779</td>\n",
       "      <td>2.57525</td>\n",
       "      <td>-0.108265</td>\n",
       "      <td>0.0</td>\n",
       "      <td>0.0</td>\n",
       "      <td>-0.118304</td>\n",
       "      <td>0.0</td>\n",
       "      <td>-0.12504</td>\n",
       "      <td>0.0</td>\n",
       "      <td>0.0</td>\n",
       "      <td>0.0</td>\n",
       "      <td>-0.074876</td>\n",
       "      <td>0.0</td>\n",
       "      <td>-0.30701</td>\n",
       "      <td>0.0</td>\n",
       "      <td>0.0</td>\n",
       "      <td>-0.03591</td>\n",
       "      <td>0.104926</td>\n",
       "      <td>0.0</td>\n",
       "      <td>0.0</td>\n",
       "      <td>0.266359</td>\n",
       "      <td>0.0</td>\n",
       "      <td>0.0</td>\n",
       "      <td>0.0</td>\n",
       "      <td>0.0</td>\n",
       "      <td>-0.1536</td>\n",
       "      <td>0.0</td>\n",
       "      <td>0.261833</td>\n",
       "      <td>0.0</td>\n",
       "      <td>0.0</td>\n",
       "      <td>0.0</td>\n",
       "      <td>0.0</td>\n",
       "      <td>0.0</td>\n",
       "      <td>0.0</td>\n",
       "      <td>0.0</td>\n",
       "      <td>0.309434</td>\n",
       "      <td>0.138388</td>\n",
       "      <td>0.0</td>\n",
       "      <td>0.0</td>\n",
       "      <td>0.0</td>\n",
       "      <td>-0.109549</td>\n",
       "      <td>0.028585</td>\n",
       "      <td>0.0</td>\n",
       "      <td>0.016276</td>\n",
       "      <td>0.348031</td>\n",
       "      <td>-0.025974</td>\n",
       "      <td>0.192754</td>\n",
       "      <td>0.0</td>\n",
       "      <td>0.0</td>\n",
       "      <td>0.090228</td>\n",
       "      <td>0.0</td>\n",
       "      <td>0.0</td>\n",
       "      <td>0.0</td>\n",
       "      <td>0.224512</td>\n",
       "      <td>0.063931</td>\n",
       "      <td>0.0</td>\n",
       "      <td>0.0</td>\n",
       "      <td>0.0</td>\n",
       "      <td>0.0</td>\n",
       "      <td>0.0</td>\n",
       "      <td>0.0</td>\n",
       "      <td>0.0</td>\n",
       "      <td>0.0</td>\n",
       "      <td>0.0</td>\n",
       "      <td>0.0</td>\n",
       "    </tr>\n",
       "  </tbody>\n",
       "</table>\n",
       "</div>"
      ],
      "text/plain": [
       "                      0                    1                    2   \\\n",
       "Features       intercept  severe_tags_applied  fac_times_inpsected   \n",
       "Co-efficients   4.071446             2.345779              2.57525   \n",
       "\n",
       "                                3        4       5         6       7   \\\n",
       "Features       count_nh_insp_st_yr  bedcert  restot    aidhrd  vochrd   \n",
       "Co-efficients            -0.108265      0.0     0.0 -0.118304     0.0   \n",
       "\n",
       "                    8        9       10     11        12          13       14  \\\n",
       "Features         rnhrd  cm_aide  cm_lpn  cm_rn  ownIndex  resfamIndx       TX   \n",
       "Co-efficients -0.12504      0.0     0.0    0.0 -0.074876         0.0 -0.30701   \n",
       "\n",
       "                15   16       17        18   19   20        21   22   23   24  \\\n",
       "Features        CA   OH       IL        PA   FL   IN        MI   MO   NY   IA   \n",
       "Co-efficients  0.0  0.0 -0.03591  0.104926  0.0  0.0  0.266359  0.0  0.0  0.0   \n",
       "\n",
       "                25      26   27        28   29   30   31   32   33   34   35  \\\n",
       "Features        NC      MN   WI        MA   LA   GA   KS   TN   AR   OK   NJ   \n",
       "Co-efficients  0.0 -0.1536  0.0  0.261833  0.0  0.0  0.0  0.0  0.0  0.0  0.0   \n",
       "\n",
       "                     36        37   38   39   40        41        42   43  \\\n",
       "Features             VA        WA   NE   CO   CT        SC        AZ   MS   \n",
       "Co-efficients  0.309434  0.138388  0.0  0.0  0.0 -0.109549  0.028585  0.0   \n",
       "\n",
       "                     44        45        46        47   48   49        50  \\\n",
       "Features             OR        WV        AL        MD   ME   KY        NM   \n",
       "Co-efficients  0.016276  0.348031 -0.025974  0.192754  0.0  0.0  0.090228   \n",
       "\n",
       "                51   52   53        54        55   56   57   58   59   60  \\\n",
       "Features        RI   SD   NH        NV        UT   ND   MT   HI   WY   VT   \n",
       "Co-efficients  0.0  0.0  0.0  0.224512  0.063931  0.0  0.0  0.0  0.0  0.0   \n",
       "\n",
       "                61   62   63   64   65  \n",
       "Features        ID   DE   AK   DC   PR  \n",
       "Co-efficients  0.0  0.0  0.0  0.0  0.0  "
      ]
     },
     "execution_count": 178,
     "metadata": {},
     "output_type": "execute_result"
    }
   ],
   "source": [
    "coeff_df.transpose()"
   ]
  },
  {
   "cell_type": "code",
   "execution_count": 179,
   "id": "b826970a-3e9f-48b4-b6ee-7e87a0968ff3",
   "metadata": {},
   "outputs": [],
   "source": [
    "predictions = linearModel.transform(test_data)"
   ]
  },
  {
   "cell_type": "code",
   "execution_count": 180,
   "id": "54022409-6502-4dfd-9eae-270cdba38e54",
   "metadata": {},
   "outputs": [],
   "source": [
    "predandlabels = predictions.select(\"pr_no_of_tags_peryear\", \"no_of_tags_peryear\")"
   ]
  },
  {
   "cell_type": "code",
   "execution_count": 181,
   "id": "f3450a2f-8593-453e-8cee-033a7c8fd7bc",
   "metadata": {},
   "outputs": [
    {
     "name": "stderr",
     "output_type": "stream",
     "text": [
      "[Stage 60:===========================================>              (6 + 2) / 8]\r"
     ]
    },
    {
     "name": "stdout",
     "output_type": "stream",
     "text": [
      "+---------------------+------------------+\n",
      "|pr_no_of_tags_peryear|no_of_tags_peryear|\n",
      "+---------------------+------------------+\n",
      "|    4.916221030969628|                 1|\n",
      "|    4.896801203638635|                 1|\n",
      "|    4.674808507206015|                 1|\n",
      "|    4.656281836282518|                 1|\n",
      "|    4.472395093864433|                 1|\n",
      "|     4.76982263707548|                 1|\n",
      "|   4.7489794612979805|                 1|\n",
      "|     3.85533027488467|                 1|\n",
      "|   3.8648587461438493|                 1|\n",
      "|   4.4662897347663515|                 1|\n",
      "|    7.335722528744217|                 1|\n",
      "|   4.7184271007616285|                 1|\n",
      "|    4.902871205925292|                 1|\n",
      "|    4.744696730258871|                 1|\n",
      "|    4.714747484826725|                 1|\n",
      "|    4.914179403287346|                 1|\n",
      "|    4.967096986023156|                 1|\n",
      "|    4.835774233522725|                 1|\n",
      "|    4.176707499803331|                 1|\n",
      "|   6.7186629463795455|                 1|\n",
      "+---------------------+------------------+\n",
      "only showing top 20 rows\n",
      "\n"
     ]
    },
    {
     "name": "stderr",
     "output_type": "stream",
     "text": [
      "                                                                                \r"
     ]
    }
   ],
   "source": [
    "predandlabels.show()"
   ]
  },
  {
   "cell_type": "code",
   "execution_count": 182,
   "id": "02b827b8-110f-4fbd-9e0e-57fec01f6857",
   "metadata": {},
   "outputs": [
    {
     "name": "stdout",
     "output_type": "stream",
     "text": [
      "RMSE: 5.343239933126266\n",
      "MAE: 3.91668541843798\n",
      "R2: 0.40941305767644687\n"
     ]
    }
   ],
   "source": [
    "# Get the RMSE\n",
    "print(\"RMSE: {0}\".format(linearModel.summary.rootMeanSquaredError))\n",
    "print(\"MAE: {0}\".format(linearModel.summary.meanAbsoluteError))\n",
    "# Get the R2\n",
    "print(\"R2: {0}\".format(linearModel.summary.r2))"
   ]
  },
  {
   "cell_type": "code",
   "execution_count": 183,
   "id": "6197a62a-7803-49aa-b934-8410568b81d8",
   "metadata": {},
   "outputs": [
    {
     "name": "stderr",
     "output_type": "stream",
     "text": [
      "[Stage 63:===========================================>              (6 + 2) / 8]\r"
     ]
    },
    {
     "name": "stdout",
     "output_type": "stream",
     "text": [
      "RMSE: 5.256142291936482\n"
     ]
    },
    {
     "name": "stderr",
     "output_type": "stream",
     "text": [
      "                                                                                \r"
     ]
    }
   ],
   "source": [
    "evaluator = RegressionEvaluator(\n",
    "    predictionCol=\"pr_no_of_tags_peryear\",\n",
    "    labelCol=\"no_of_tags_peryear\",\n",
    "    metricName=\"rmse\",\n",
    ")\n",
    "print(\"RMSE: {0}\".format(evaluator.evaluate(predandlabels)))"
   ]
  },
  {
   "cell_type": "markdown",
   "id": "474e72fb-b5d2-4c97-8bc6-6e75e771e350",
   "metadata": {},
   "source": [
    "## learn"
   ]
  },
  {
   "cell_type": "code",
   "execution_count": 278,
   "id": "d3345dce-e249-4786-ad3a-be639618694f",
   "metadata": {},
   "outputs": [],
   "source": [
    "from pyspark.ml.linalg import Vectors\n",
    "from pyspark.ml.stat import Correlation"
   ]
  },
  {
   "cell_type": "code",
   "execution_count": 279,
   "id": "fa67738f-e0f0-4e41-aeec-8fa37a02a924",
   "metadata": {},
   "outputs": [],
   "source": [
    "data = [\n",
    "    (Vectors.sparse(4, [(0, 1.0), (3, -2.0)]),),\n",
    "    (Vectors.dense([4.0, 5.0, 0.0, 3.0]),),\n",
    "    (Vectors.dense([6.0, 7.0, 0.0, 8.0]),),\n",
    "    (Vectors.sparse(4, [(0, 9.0), (3, 1.0)]),),\n",
    "]\n",
    "df = spark.createDataFrame(data, [\"features\"])"
   ]
  },
  {
   "cell_type": "code",
   "execution_count": 280,
   "id": "840440c4-6a42-4416-9ce9-06929dd27186",
   "metadata": {},
   "outputs": [
    {
     "name": "stderr",
     "output_type": "stream",
     "text": [
      "                                                                                \r"
     ]
    },
    {
     "name": "stdout",
     "output_type": "stream",
     "text": [
      "+--------------------+\n",
      "|            features|\n",
      "+--------------------+\n",
      "|(4,[0,3],[1.0,-2.0])|\n",
      "|   [4.0,5.0,0.0,3.0]|\n",
      "|   [6.0,7.0,0.0,8.0]|\n",
      "| (4,[0,3],[9.0,1.0])|\n",
      "+--------------------+\n",
      "\n"
     ]
    }
   ],
   "source": [
    "df.show()"
   ]
  },
  {
   "cell_type": "code",
   "execution_count": 281,
   "id": "9c865b7d-2c91-4b15-8029-6041aef5a28f",
   "metadata": {},
   "outputs": [
    {
     "name": "stderr",
     "output_type": "stream",
     "text": [
      "24/06/03 14:11:01 WARN PearsonCorrelation: Pearson correlation matrix contains NaN values.\n"
     ]
    }
   ],
   "source": [
    "r1 = Correlation.corr(df, \"features\").head()"
   ]
  },
  {
   "cell_type": "code",
   "execution_count": 282,
   "id": "7e2c2f57-082e-40b5-bb4d-2224ce34e988",
   "metadata": {},
   "outputs": [
    {
     "name": "stdout",
     "output_type": "stream",
     "text": [
      "Pearson correlation matrix:\n",
      "DenseMatrix([[1.        , 0.05564149,        nan, 0.40047142],\n",
      "             [0.05564149, 1.        ,        nan, 0.91359586],\n",
      "             [       nan,        nan, 1.        ,        nan],\n",
      "             [0.40047142, 0.91359586,        nan, 1.        ]])\n"
     ]
    }
   ],
   "source": [
    "print(\"Pearson correlation matrix:\\n\" + str(r1[0]))"
   ]
  },
  {
   "cell_type": "code",
   "execution_count": 283,
   "id": "2c215bcc-4a93-44a8-b572-13465ea33352",
   "metadata": {},
   "outputs": [
    {
     "name": "stdout",
     "output_type": "stream",
     "text": [
      "Spearman correlation matrix:\n",
      "DenseMatrix([[1.        , 0.10540926,        nan, 0.4       ],\n",
      "             [0.10540926, 1.        ,        nan, 0.9486833 ],\n",
      "             [       nan,        nan, 1.        ,        nan],\n",
      "             [0.4       , 0.9486833 ,        nan, 1.        ]])\n"
     ]
    },
    {
     "name": "stderr",
     "output_type": "stream",
     "text": [
      "24/06/03 14:11:27 WARN PearsonCorrelation: Pearson correlation matrix contains NaN values.\n"
     ]
    }
   ],
   "source": [
    "r2 = Correlation.corr(df, \"features\", \"spearman\").head()\n",
    "\n",
    "\n",
    "print(\"Spearman correlation matrix:\\n\" + str(r2[0]))"
   ]
  },
  {
   "cell_type": "code",
   "execution_count": 290,
   "id": "756ccc03-f58b-4db3-a455-9e1614e8dbad",
   "metadata": {},
   "outputs": [
    {
     "name": "stderr",
     "output_type": "stream",
     "text": [
      "                                                                                \r"
     ]
    },
    {
     "name": "stdout",
     "output_type": "stream",
     "text": [
      "+-----------------------------------+\n",
      "|aggregate_metrics(features, weight)|\n",
      "+-----------------------------------+\n",
      "|{[1.0,1.0,1.0], 1}                 |\n",
      "+-----------------------------------+\n",
      "\n",
      "+--------------------------------+\n",
      "|aggregate_metrics(features, 1.0)|\n",
      "+--------------------------------+\n",
      "|{[1.0,1.5,2.0], 2}              |\n",
      "+--------------------------------+\n",
      "\n",
      "+--------------+\n",
      "|mean(features)|\n",
      "+--------------+\n",
      "|[1.0,1.0,1.0] |\n",
      "+--------------+\n",
      "\n",
      "+--------------+\n",
      "|mean(features)|\n",
      "+--------------+\n",
      "|[1.0,1.5,2.0] |\n",
      "+--------------+\n",
      "\n"
     ]
    }
   ],
   "source": [
    "from pyspark.ml.stat import Summarizer\n",
    "from pyspark.sql import Row\n",
    "from pyspark.ml.linalg import Vectors\n",
    "\n",
    "df = sc.parallelize(\n",
    "    [\n",
    "        Row(weight=1.0, features=Vectors.dense(1.0, 1.0, 1.0)),\n",
    "        Row(weight=0.0, features=Vectors.dense(1.0, 2.0, 3.0)),\n",
    "    ]\n",
    ").toDF()\n",
    "\n",
    "# create summarizer for multiple metrics \"mean\" and \"count\"\n",
    "summarizer = Summarizer.metrics(\"mean\", \"count\")\n",
    "\n",
    "# compute statistics for multiple metrics with weight\n",
    "df.select(summarizer.summary(df.features, df.weight)).show(truncate=False)\n",
    "\n",
    "# compute statistics for multiple metrics without weight\n",
    "df.select(summarizer.summary(df.features)).show(truncate=False)\n",
    "\n",
    "# compute statistics for single metric \"mean\" with weight\n",
    "df.select(Summarizer.mean(df.features, df.weight)).show(truncate=False)\n",
    "\n",
    "# compute statistics for single metric \"mean\" without weight\n",
    "df.select(Summarizer.mean(df.features)).show(truncate=False)"
   ]
  },
  {
   "cell_type": "code",
   "execution_count": 292,
   "id": "cfd0c85a-6697-4739-b4e6-8abcc1647905",
   "metadata": {},
   "outputs": [
    {
     "name": "stderr",
     "output_type": "stream",
     "text": [
      "                                                                                \r"
     ]
    },
    {
     "name": "stdout",
     "output_type": "stream",
     "text": [
      "+------+-------------+\n",
      "|weight|     features|\n",
      "+------+-------------+\n",
      "|   1.0|[1.0,1.0,1.0]|\n",
      "|   0.0|[1.0,2.0,3.0]|\n",
      "+------+-------------+\n",
      "\n"
     ]
    },
    {
     "name": "stderr",
     "output_type": "stream",
     "text": [
      "                                                                                \r"
     ]
    }
   ],
   "source": [
    "df.show()"
   ]
  },
  {
   "cell_type": "code",
   "execution_count": null,
   "id": "bfd44641-264f-4fdf-890a-f94a3d09af01",
   "metadata": {},
   "outputs": [],
   "source": []
  }
 ],
 "metadata": {
  "kernelspec": {
   "display_name": "ml_disab_310",
   "language": "python",
   "name": "ml_disab_310"
  },
  "language_info": {
   "codemirror_mode": {
    "name": "ipython",
    "version": 3
   },
   "file_extension": ".py",
   "mimetype": "text/x-python",
   "name": "python",
   "nbconvert_exporter": "python",
   "pygments_lexer": "ipython3",
   "version": "3.10.4"
  }
 },
 "nbformat": 4,
 "nbformat_minor": 5
}
